{
  "nbformat": 4,
  "nbformat_minor": 0,
  "metadata": {
    "colab": {
      "name": "pyspark_basic_2.ipynb",
      "provenance": [],
      "collapsed_sections": []
    },
    "kernelspec": {
      "name": "python3",
      "display_name": "Python 3"
    },
    "language_info": {
      "name": "python"
    }
  },
  "cells": [
    {
      "cell_type": "markdown",
      "metadata": {
        "id": "OYoPlBbqwcNv"
      },
      "source": [
        "## RDD Operations\n",
        "Action에 해당하는 함수에 대해 알아봅시다.\n",
        "- collect()\n",
        "- take()\n",
        "- count()\n",
        "- reduce()\n",
        "- saveAsTextFile()"
      ]
    },
    {
      "cell_type": "code",
      "metadata": {
        "colab": {
          "base_uri": "https://localhost:8080/"
        },
        "cellView": "form",
        "id": "nGAAPg5CxFK1",
        "outputId": "498b2171-c113-4cea-e9b7-30bd7eed360b"
      },
      "source": [
        "#@title\n",
        "#!pip install pyspark"
      ],
      "execution_count": 3,
      "outputs": [
        {
          "output_type": "stream",
          "name": "stdout",
          "text": [
            "Collecting pyspark\n",
            "  Downloading pyspark-3.2.0.tar.gz (281.3 MB)\n",
            "\u001b[K     |████████████████████████████████| 281.3 MB 35 kB/s \n",
            "\u001b[?25hCollecting py4j==0.10.9.2\n",
            "  Downloading py4j-0.10.9.2-py2.py3-none-any.whl (198 kB)\n",
            "\u001b[K     |████████████████████████████████| 198 kB 60.2 MB/s \n",
            "\u001b[?25hBuilding wheels for collected packages: pyspark\n",
            "  Building wheel for pyspark (setup.py) ... \u001b[?25l\u001b[?25hdone\n",
            "  Created wheel for pyspark: filename=pyspark-3.2.0-py2.py3-none-any.whl size=281805912 sha256=3efe4f3abef964470b2a5a91ac4947c797d82690b04a34493a409bb70098e884\n",
            "  Stored in directory: /root/.cache/pip/wheels/0b/de/d2/9be5d59d7331c6c2a7c1b6d1a4f463ce107332b1ecd4e80718\n",
            "Successfully built pyspark\n",
            "Installing collected packages: py4j, pyspark\n",
            "Successfully installed py4j-0.10.9.2 pyspark-3.2.0\n"
          ]
        }
      ]
    },
    {
      "cell_type": "code",
      "metadata": {
        "cellView": "form",
        "id": "GfOU0PNaw-HM"
      },
      "source": [
        "#@title\n",
        "import pyspark\n",
        "from pyspark import SparkContext\n",
        "sc= SparkContext()"
      ],
      "execution_count": 4,
      "outputs": []
    },
    {
      "cell_type": "markdown",
      "metadata": {
        "id": "ZmdYrGVJwycT"
      },
      "source": [
        "1) collect : 모둔 값 리턴. 빅데이터라면 함부로 쓰지 말것."
      ]
    },
    {
      "cell_type": "code",
      "metadata": {
        "colab": {
          "base_uri": "https://localhost:8080/"
        },
        "id": "99RgdFGfwnU6",
        "outputId": "141f502b-923e-41e0-8669-28349521586b"
      },
      "source": [
        "nums = sc.parallelize(list(range(10)))\n",
        "nums.collect()"
      ],
      "execution_count": 5,
      "outputs": [
        {
          "output_type": "execute_result",
          "data": {
            "text/plain": [
              "[0, 1, 2, 3, 4, 5, 6, 7, 8, 9]"
            ]
          },
          "metadata": {},
          "execution_count": 5
        }
      ]
    },
    {
      "cell_type": "markdown",
      "metadata": {
        "id": "mq0_i4JyxsDz"
      },
      "source": [
        "2) take : 앞쪽 n개의 데이터의 list를 리턴. 안전하게 데이터 확인 가능."
      ]
    },
    {
      "cell_type": "code",
      "metadata": {
        "colab": {
          "base_uri": "https://localhost:8080/"
        },
        "id": "FkwPqb4Vw54M",
        "outputId": "d689ae89-64be-48b6-ad6e-981270a8df01"
      },
      "source": [
        "nums.take(3)"
      ],
      "execution_count": 6,
      "outputs": [
        {
          "output_type": "execute_result",
          "data": {
            "text/plain": [
              "[0, 1, 2]"
            ]
          },
          "metadata": {},
          "execution_count": 6
        }
      ]
    },
    {
      "cell_type": "markdown",
      "metadata": {
        "id": "fU7kXsZPx4os"
      },
      "source": [
        "3) count : RDD에 포함된 데이터 개수"
      ]
    },
    {
      "cell_type": "code",
      "metadata": {
        "colab": {
          "base_uri": "https://localhost:8080/"
        },
        "id": "OsbjJuffx1vc",
        "outputId": "3cf81838-5a23-40d6-c177-d1e4101f184c"
      },
      "source": [
        "nums.count()"
      ],
      "execution_count": 7,
      "outputs": [
        {
          "output_type": "execute_result",
          "data": {
            "text/plain": [
              "10"
            ]
          },
          "metadata": {},
          "execution_count": 7
        }
      ]
    },
    {
      "cell_type": "markdown",
      "metadata": {
        "id": "nY9yM3k4yLJL"
      },
      "source": [
        "### reduce()\n",
        "\n",
        "- mapreduce의 그 reduce에 해당.  "
      ]
    },
    {
      "cell_type": "code",
      "metadata": {
        "colab": {
          "base_uri": "https://localhost:8080/"
        },
        "id": "hJ23BbZ0x3rc",
        "outputId": "f41ac936-5425-46ce-a846-072a28be60f1"
      },
      "source": [
        "nums.reduce(lambda x, y: x + y)"
      ],
      "execution_count": 8,
      "outputs": [
        {
          "output_type": "execute_result",
          "data": {
            "text/plain": [
              "45"
            ]
          },
          "metadata": {},
          "execution_count": 8
        }
      ]
    },
    {
      "cell_type": "markdown",
      "metadata": {
        "id": "WIUu6jON1Dg1"
      },
      "source": [
        "## saveAsTextFile(path)\n",
        "\n",
        "- 경로에 저장합니다!"
      ]
    },
    {
      "cell_type": "code",
      "metadata": {
        "colab": {
          "base_uri": "https://localhost:8080/"
        },
        "id": "_M_K7wagy5vU",
        "outputId": "4638591c-f038-4918-f3d9-91ebaba3e507"
      },
      "source": [
        "path = '/content/sample_data/file.txt'\n",
        "\n",
        "nums.saveAsTextFile(path)"
      ],
      "execution_count": 10,
      "outputs": [
        {
          "output_type": "stream",
          "name": "stdout",
          "text": [
            "ls: cannot access '/root/content/sample_data': No such file or directory\n"
          ]
        }
      ]
    },
    {
      "cell_type": "markdown",
      "metadata": {
        "id": "Vy-soCrX0twc"
      },
      "source": [
        "### 주목할 점은, 생성 시 폴더를 통해 part0,1 로 immutable하고 deterministic하게 분산된 데이터셋으로 저장된다는 것입니다!"
      ]
    },
    {
      "cell_type": "markdown",
      "metadata": {
        "id": "WaQOUfkD0Y4k"
      },
      "source": [
        "> 아래의 연산의 결과를 예상해봅시다."
      ]
    },
    {
      "cell_type": "code",
      "metadata": {
        "colab": {
          "base_uri": "https://localhost:8080/"
        },
        "id": "PrdcFAXCzLZ0",
        "outputId": "5b2fb452-dfb0-439f-ff3c-8353a3b7378e"
      },
      "source": [
        "# RDD 생성\n",
        "rdd = sc.parallelize(range(1,100))\n",
        "\n",
        "# RDD Transformation \n",
        "rdd2 = rdd.map(lambda x: 0.5*x - 10).filter(lambda x: x > 0)\n",
        "\n",
        "# RDD Action \n",
        "rdd2.reduce(lambda x, y: x + y)"
      ],
      "execution_count": 11,
      "outputs": [
        {
          "output_type": "execute_result",
          "data": {
            "text/plain": [
              "1580.0"
            ]
          },
          "metadata": {},
          "execution_count": 11
        }
      ]
    }
  ]
}