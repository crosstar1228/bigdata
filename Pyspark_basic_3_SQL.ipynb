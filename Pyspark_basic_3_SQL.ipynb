{
  "nbformat": 4,
  "nbformat_minor": 0,
  "metadata": {
    "colab": {
      "name": "Pyspark_basic_3_SQL.ipynb",
      "provenance": []
    },
    "kernelspec": {
      "name": "python3",
      "display_name": "Python 3"
    },
    "language_info": {
      "name": "python"
    },
    "accelerator": "GPU"
  },
  "cells": [
    {
      "cell_type": "markdown",
      "metadata": {
        "id": "X69VyUNyBkmQ"
      },
      "source": [
        "## SparkSQL로 Spark 데이터 추출 및 전처리\n",
        "- [Github Page for Tutorial](https://github.com/songhunhwa/songhunhwa.github.com/tree/master/tutorial/tutorial_01)\n",
        "- SQLContext 생성\n",
        "- DataFrame 생성 및 추출\n",
        "- SQL 전처리 및 분석\n",
        "  - temporary table 생성\n",
        "  - `select`, `join`, `groupby-agg-alias`, `describe`, `show`"
      ]
    },
    {
      "cell_type": "code",
      "metadata": {
        "colab": {
          "base_uri": "https://localhost:8080/"
        },
        "id": "gXFjW7s2qGo2",
        "outputId": "9fe0c1e4-63bd-43ac-8db9-16fbeb981443"
      },
      "source": [
        "!pip install pyspark"
      ],
      "execution_count": 1,
      "outputs": [
        {
          "output_type": "stream",
          "name": "stdout",
          "text": [
            "Collecting pyspark\n",
            "  Downloading pyspark-3.2.0.tar.gz (281.3 MB)\n",
            "\u001b[K     |████████████████████████████████| 281.3 MB 48 kB/s \n",
            "\u001b[?25hCollecting py4j==0.10.9.2\n",
            "  Downloading py4j-0.10.9.2-py2.py3-none-any.whl (198 kB)\n",
            "\u001b[K     |████████████████████████████████| 198 kB 62.0 MB/s \n",
            "\u001b[?25hBuilding wheels for collected packages: pyspark\n",
            "  Building wheel for pyspark (setup.py) ... \u001b[?25l\u001b[?25hdone\n",
            "  Created wheel for pyspark: filename=pyspark-3.2.0-py2.py3-none-any.whl size=281805912 sha256=a3f57f4a95f15d28109d01a79f9c1f5b92acff382d13c4eb84dbd21dd2fd794f\n",
            "  Stored in directory: /root/.cache/pip/wheels/0b/de/d2/9be5d59d7331c6c2a7c1b6d1a4f463ce107332b1ecd4e80718\n",
            "Successfully built pyspark\n",
            "Installing collected packages: py4j, pyspark\n",
            "Successfully installed py4j-0.10.9.2 pyspark-3.2.0\n"
          ]
        }
      ]
    },
    {
      "cell_type": "code",
      "metadata": {
        "id": "5XEdRA2aCrHg"
      },
      "source": [
        "# 모듈 import\n",
        "from pyspark.sql import SQLContext\n",
        "from pyspark.sql.functions import *"
      ],
      "execution_count": 2,
      "outputs": []
    },
    {
      "cell_type": "code",
      "metadata": {
        "colab": {
          "base_uri": "https://localhost:8080/"
        },
        "id": "dE0rbqM4rb6A",
        "outputId": "d54d6e15-10cb-47b1-a0fd-f08a0e01da30"
      },
      "source": [
        "sc = SparkContext()\n",
        "sqlContext = SQLContext(sc)"
      ],
      "execution_count": 4,
      "outputs": [
        {
          "output_type": "stream",
          "name": "stderr",
          "text": [
            "/usr/local/lib/python3.7/dist-packages/pyspark/sql/context.py:79: FutureWarning: Deprecated in 3.0.0. Use SparkSession.builder.getOrCreate() instead.\n",
            "  FutureWarning\n"
          ]
        }
      ]
    },
    {
      "cell_type": "markdown",
      "metadata": {
        "id": "g-kb2-c4qcph"
      },
      "source": [
        "> **캘리포니아 집값 정보** CSV 파일을 읽어와 봅시다.\n",
        "\n",
        "`sqlContext`객체로 읽어오기!"
      ]
    },
    {
      "cell_type": "code",
      "metadata": {
        "id": "ytGLpDu4CoUP"
      },
      "source": [
        "# read the csv with library\n",
        "df = sqlContext.read.format('com.databricks.spark.csv')\\\n",
        "\t\t\t\t\t.options(header='true', inferSchema='true')\\\n",
        "\t\t\t\t\t.load('/content/sample_data/california_housing_train.csv')\\\n",
        "\t\t\t\t\t.cache()"
      ],
      "execution_count": 7,
      "outputs": []
    },
    {
      "cell_type": "code",
      "metadata": {
        "colab": {
          "base_uri": "https://localhost:8080/"
        },
        "id": "KvO-HbtQramJ",
        "outputId": "b93cb5e0-e5b4-49e6-f745-48cae997ff18"
      },
      "source": [
        "df.take(3)"
      ],
      "execution_count": 9,
      "outputs": [
        {
          "output_type": "execute_result",
          "data": {
            "text/plain": [
              "[Row(longitude=-114.31, latitude=34.19, housing_median_age=15.0, total_rooms=5612.0, total_bedrooms=1283.0, population=1015.0, households=472.0, median_income=1.4936, median_house_value=66900.0),\n",
              " Row(longitude=-114.47, latitude=34.4, housing_median_age=19.0, total_rooms=7650.0, total_bedrooms=1901.0, population=1129.0, households=463.0, median_income=1.82, median_house_value=80100.0),\n",
              " Row(longitude=-114.56, latitude=33.69, housing_median_age=17.0, total_rooms=720.0, total_bedrooms=174.0, population=333.0, households=117.0, median_income=1.6509, median_house_value=85700.0)]"
            ]
          },
          "metadata": {},
          "execution_count": 9
        }
      ]
    },
    {
      "cell_type": "markdown",
      "metadata": {
        "id": "XauIyQXpsecw"
      },
      "source": [
        "> `printSchema()`를 통해 구조를 확인합니다."
      ]
    },
    {
      "cell_type": "code",
      "metadata": {
        "colab": {
          "base_uri": "https://localhost:8080/"
        },
        "id": "UD3IxeXysLyA",
        "outputId": "2980fb89-24fe-4584-81bd-8c99cdce55f0"
      },
      "source": [
        "df.printSchema()"
      ],
      "execution_count": 10,
      "outputs": [
        {
          "output_type": "stream",
          "name": "stdout",
          "text": [
            "root\n",
            " |-- longitude: double (nullable = true)\n",
            " |-- latitude: double (nullable = true)\n",
            " |-- housing_median_age: double (nullable = true)\n",
            " |-- total_rooms: double (nullable = true)\n",
            " |-- total_bedrooms: double (nullable = true)\n",
            " |-- population: double (nullable = true)\n",
            " |-- households: double (nullable = true)\n",
            " |-- median_income: double (nullable = true)\n",
            " |-- median_house_value: double (nullable = true)\n",
            "\n"
          ]
        }
      ]
    },
    {
      "cell_type": "markdown",
      "metadata": {
        "id": "aD1dXZNXta54"
      },
      "source": [
        "`df.count()`를 통하여 개수를 셉니다."
      ]
    },
    {
      "cell_type": "code",
      "metadata": {
        "colab": {
          "base_uri": "https://localhost:8080/"
        },
        "id": "cdAjJ2k7sbLf",
        "outputId": "4fc76269-b0e4-4c52-8107-2e5ed7a91e2d"
      },
      "source": [
        "df.count()"
      ],
      "execution_count": 11,
      "outputs": [
        {
          "output_type": "execute_result",
          "data": {
            "text/plain": [
              "17000"
            ]
          },
          "metadata": {},
          "execution_count": 11
        }
      ]
    },
    {
      "cell_type": "markdown",
      "metadata": {
        "id": "qQqk2DmZtmqX"
      },
      "source": [
        "> tmp table로 변환합니다.\n",
        " \n",
        "> tmp란? temporary의 약자로서, 1회 조회용을 위한 데이터 생성"
      ]
    },
    {
      "cell_type": "code",
      "metadata": {
        "colab": {
          "base_uri": "https://localhost:8080/"
        },
        "id": "6_jybucZtjVw",
        "outputId": "4ba1edfc-58f2-4a0a-b763-2f9c007dc0c9"
      },
      "source": [
        "# convert the df to tmp table (as if it's in database)\n",
        "df.registerTempTable(\"df_tmp\")"
      ],
      "execution_count": 12,
      "outputs": [
        {
          "output_type": "stream",
          "name": "stderr",
          "text": [
            "/usr/local/lib/python3.7/dist-packages/pyspark/sql/dataframe.py:140: FutureWarning: Deprecated in 2.0, use createOrReplaceTempView instead.\n",
            "  FutureWarning\n"
          ]
        }
      ]
    },
    {
      "cell_type": "markdown",
      "metadata": {
        "id": "PcP8I1bfum1w"
      },
      "source": [
        "> SQL문을 통하여 인구가 10000명 이상인 지점의 위도, 경도, 인구와 수입 중앙값을 새로운 데이터프레임에 할당시켜 봅시다."
      ]
    },
    {
      "cell_type": "code",
      "metadata": {
        "id": "rAjjmXBMtp7_"
      },
      "source": [
        "# extract data from table with sql\n",
        "df1 = sqlContext.sql(\"select longitude, latitude, population, median_income from df_tmp where population>10000\")"
      ],
      "execution_count": 13,
      "outputs": []
    },
    {
      "cell_type": "code",
      "metadata": {
        "colab": {
          "base_uri": "https://localhost:8080/"
        },
        "id": "pnl1AqVduj2u",
        "outputId": "2050b670-3e0a-4ba1-c547-9ed2ceac0523"
      },
      "source": [
        "df1.take(3)"
      ],
      "execution_count": 14,
      "outputs": [
        {
          "output_type": "execute_result",
          "data": {
            "text/plain": [
              "[Row(longitude=-117.12, latitude=33.52, population=13251.0, median_income=4.5841),\n",
              " Row(longitude=-117.42, latitude=33.35, population=35682.0, median_income=2.5729),\n",
              " Row(longitude=-117.61, latitude=34.1, population=10323.0, median_income=3.6033)]"
            ]
          },
          "metadata": {},
          "execution_count": 14
        }
      ]
    },
    {
      "cell_type": "code",
      "metadata": {
        "colab": {
          "base_uri": "https://localhost:8080/"
        },
        "id": "pq1JZawMulIP",
        "outputId": "c04bc985-612b-444a-d2cf-bcf746d0ed96"
      },
      "source": [
        "df1.count()"
      ],
      "execution_count": 15,
      "outputs": [
        {
          "output_type": "execute_result",
          "data": {
            "text/plain": [
              "19"
            ]
          },
          "metadata": {},
          "execution_count": 15
        }
      ]
    },
    {
      "cell_type": "markdown",
      "metadata": {
        "id": "LFq3BTF9vVlw"
      },
      "source": [
        "> temporary table로부터 다시 df2로 할당하여 Lazy execution 실습을 하여 봅시다."
      ]
    },
    {
      "cell_type": "code",
      "metadata": {
        "id": "DZPBzFL8u6j4"
      },
      "source": [
        "## Lazy Execution\n",
        "df2 = sqlContext.sql(\"select * from df_tmp\")"
      ],
      "execution_count": 35,
      "outputs": []
    },
    {
      "cell_type": "code",
      "metadata": {
        "colab": {
          "base_uri": "https://localhost:8080/"
        },
        "id": "jYPzW7h5v2mI",
        "outputId": "4bca8611-d166-4dc8-8af5-393377f5f918"
      },
      "source": [
        "df2.show(5)"
      ],
      "execution_count": 36,
      "outputs": [
        {
          "output_type": "stream",
          "name": "stdout",
          "text": [
            "+---------+--------+------------------+-----------+--------------+----------+----------+-------------+------------------+\n",
            "|longitude|latitude|housing_median_age|total_rooms|total_bedrooms|population|households|median_income|median_house_value|\n",
            "+---------+--------+------------------+-----------+--------------+----------+----------+-------------+------------------+\n",
            "|  -114.31|   34.19|              15.0|     5612.0|        1283.0|    1015.0|     472.0|       1.4936|           66900.0|\n",
            "|  -114.47|    34.4|              19.0|     7650.0|        1901.0|    1129.0|     463.0|         1.82|           80100.0|\n",
            "|  -114.56|   33.69|              17.0|      720.0|         174.0|     333.0|     117.0|       1.6509|           85700.0|\n",
            "|  -114.57|   33.64|              14.0|     1501.0|         337.0|     515.0|     226.0|       3.1917|           73400.0|\n",
            "|  -114.57|   33.57|              20.0|     1454.0|         326.0|     624.0|     262.0|        1.925|           65500.0|\n",
            "+---------+--------+------------------+-----------+--------------+----------+----------+-------------+------------------+\n",
            "only showing top 5 rows\n",
            "\n"
          ]
        }
      ]
    },
    {
      "cell_type": "markdown",
      "metadata": {
        "id": "fw_VxAo21Lea"
      },
      "source": [
        "> 위도별 방 개수의 최솟값을 집계하여 봅시다!\n",
        "> `groupby`, `agg`, `alias`를 이용합니다"
      ]
    },
    {
      "cell_type": "code",
      "metadata": {
        "colab": {
          "base_uri": "https://localhost:8080/"
        },
        "id": "aNouaqclvUY_",
        "outputId": "c8426259-157f-4970-fcda-1c6653a78ad5"
      },
      "source": [
        "df2_lat_to_rooms = df2.groupby(\"latitude\").agg(min(\"total_rooms\").alias(\"min_rooms\"))\n",
        "df2_lat_to_rooms.show()"
      ],
      "execution_count": 38,
      "outputs": [
        {
          "output_type": "stream",
          "name": "stdout",
          "text": [
            "+--------+---------+\n",
            "|latitude|min_rooms|\n",
            "+--------+---------+\n",
            "|   35.17|    116.0|\n",
            "|   38.61|    438.0|\n",
            "|   37.81|     12.0|\n",
            "|   40.11|   1631.0|\n",
            "|   40.53|   1127.0|\n",
            "|   37.23|   1656.0|\n",
            "|   39.42|    411.0|\n",
            "|   40.94|   1452.0|\n",
            "|   36.27|   1494.0|\n",
            "|    37.1|    828.0|\n",
            "|   38.93|    231.0|\n",
            "|   35.15|   7922.0|\n",
            "|   38.68|     67.0|\n",
            "|   41.46|   1277.0|\n",
            "|   35.34|    164.0|\n",
            "|   35.38|    346.0|\n",
            "|   37.29|    436.0|\n",
            "|   40.14|   1950.0|\n",
            "|   41.78|   2918.0|\n",
            "|   39.97|   1468.0|\n",
            "+--------+---------+\n",
            "only showing top 20 rows\n",
            "\n"
          ]
        }
      ]
    },
    {
      "cell_type": "markdown",
      "metadata": {
        "id": "Veyk1F7Vzyeh"
      },
      "source": [
        "df1 옆에 `df2_lat_to_rooms` 을 붙여봅시다."
      ]
    },
    {
      "cell_type": "code",
      "metadata": {
        "colab": {
          "base_uri": "https://localhost:8080/"
        },
        "id": "gaASrBR5zkaR",
        "outputId": "e5a10da6-5104-4027-ae46-5fe4c8fcb9dc"
      },
      "source": [
        "df2_join = df1.join(df2_lat_to_rooms, \"latitude\", \"left\")\n",
        "df2_join.show()"
      ],
      "execution_count": 39,
      "outputs": [
        {
          "output_type": "stream",
          "name": "stdout",
          "text": [
            "+--------+---------+----------+-------------+---------+\n",
            "|latitude|longitude|population|median_income|min_rooms|\n",
            "+--------+---------+----------+-------------+---------+\n",
            "|   33.52|  -117.12|   13251.0|       4.5841|    426.0|\n",
            "|   33.35|  -117.42|   35682.0|       2.5729|   1586.0|\n",
            "|    34.1|  -117.61|   10323.0|       3.6033|    299.0|\n",
            "|   33.89|  -117.74|   16122.0|       7.4947|     63.0|\n",
            "|   34.01|  -117.75|   10450.0|       6.1287|    352.0|\n",
            "|   34.03|  -117.78|   15507.0|       6.0191|    213.0|\n",
            "|   34.04|  -117.87|   15037.0|       6.6288|     18.0|\n",
            "|   33.96|  -117.88|   10988.0|       5.5469|    124.0|\n",
            "|   34.68|  -118.09|   10493.0|       4.0211|    552.0|\n",
            "|   34.57|   -118.1|   11973.0|       3.3086|   1054.0|\n",
            "|    34.4|  -118.46|   10475.0|        4.542|   1112.0|\n",
            "|   34.16|  -118.78|   12873.0|       8.0137|     54.0|\n",
            "|   34.26|   -118.9|   11956.0|       6.9712|    224.0|\n",
            "|    34.7|  -120.59|   12427.0|       2.7377|   1943.0|\n",
            "|   38.47|   -121.4|   10329.0|       4.3658|   1215.0|\n",
            "|   36.69|  -121.61|   11272.0|       2.0244|    512.0|\n",
            "|   36.72|  -121.68|   12153.0|       3.2652|     60.0|\n",
            "|   36.64|  -121.79|   28566.0|       2.3087|    949.0|\n",
            "|   37.53|  -121.92|   12203.0|       8.4045|    239.0|\n",
            "+--------+---------+----------+-------------+---------+\n",
            "\n"
          ]
        }
      ]
    },
    {
      "cell_type": "markdown",
      "metadata": {
        "id": "aaKH-z6h2R53"
      },
      "source": [
        "> 위도, 경도에 따른 최소 방 개수를 집계하여 봅시다."
      ]
    },
    {
      "cell_type": "code",
      "metadata": {
        "id": "vXG3IJ8p0Ft-"
      },
      "source": [
        "df2_join1 = df2_join.groupby(\"latitude\", \"longitude\").agg(count(\"min_rooms\").alias(\"tude_to_rooms\"))"
      ],
      "execution_count": 42,
      "outputs": []
    },
    {
      "cell_type": "code",
      "metadata": {
        "colab": {
          "base_uri": "https://localhost:8080/"
        },
        "id": "yXUuD2wQ2aXg",
        "outputId": "5f4592ba-e857-4581-ac69-c36fb21efd57"
      },
      "source": [
        "df2_join1.show(5)"
      ],
      "execution_count": 45,
      "outputs": [
        {
          "output_type": "stream",
          "name": "stdout",
          "text": [
            "+--------+---------+-------------+\n",
            "|latitude|longitude|tude_to_rooms|\n",
            "+--------+---------+-------------+\n",
            "|    34.1|  -117.61|            1|\n",
            "|   36.69|  -121.61|            1|\n",
            "|   33.35|  -117.42|            1|\n",
            "|   33.89|  -117.74|            1|\n",
            "|   36.72|  -121.68|            1|\n",
            "+--------+---------+-------------+\n",
            "only showing top 5 rows\n",
            "\n"
          ]
        }
      ]
    },
    {
      "cell_type": "code",
      "metadata": {
        "colab": {
          "base_uri": "https://localhost:8080/"
        },
        "id": "YSC5jolG0Qe_",
        "outputId": "88604c73-fee2-4f50-a959-f04326537e80"
      },
      "source": [
        "df2_join1.describe().show()"
      ],
      "execution_count": 43,
      "outputs": [
        {
          "output_type": "stream",
          "name": "stdout",
          "text": [
            "+-------+------------------+------------------+-------------+\n",
            "|summary|          latitude|         longitude|tude_to_rooms|\n",
            "+-------+------------------+------------------+-------------+\n",
            "|  count|                19|                19|           19|\n",
            "|   mean|34.932631578947365|-119.0784210526316|          1.0|\n",
            "| stddev|1.4856605044568298| 1.757476926220892|          0.0|\n",
            "|    min|             33.35|           -121.92|            1|\n",
            "|    max|             38.47|           -117.12|            1|\n",
            "+-------+------------------+------------------+-------------+\n",
            "\n"
          ]
        }
      ]
    },
    {
      "cell_type": "code",
      "metadata": {
        "colab": {
          "base_uri": "https://localhost:8080/",
          "height": 222
        },
        "id": "7EYMeAmuvreu",
        "outputId": "ee128863-db38-4d54-d7d9-adf13a3c4179"
      },
      "source": [
        "# Pandas로 변환하기\n",
        "df2_pd = df2.toPandas()\n",
        "df2_pd.head()"
      ],
      "execution_count": 28,
      "outputs": [
        {
          "output_type": "execute_result",
          "data": {
            "text/html": [
              "<div>\n",
              "<style scoped>\n",
              "    .dataframe tbody tr th:only-of-type {\n",
              "        vertical-align: middle;\n",
              "    }\n",
              "\n",
              "    .dataframe tbody tr th {\n",
              "        vertical-align: top;\n",
              "    }\n",
              "\n",
              "    .dataframe thead th {\n",
              "        text-align: right;\n",
              "    }\n",
              "</style>\n",
              "<table border=\"1\" class=\"dataframe\">\n",
              "  <thead>\n",
              "    <tr style=\"text-align: right;\">\n",
              "      <th></th>\n",
              "      <th>longitude</th>\n",
              "      <th>latitude</th>\n",
              "      <th>housing_median_age</th>\n",
              "      <th>total_rooms</th>\n",
              "      <th>total_bedrooms</th>\n",
              "      <th>population</th>\n",
              "      <th>households</th>\n",
              "      <th>median_income</th>\n",
              "      <th>median_house_value</th>\n",
              "    </tr>\n",
              "  </thead>\n",
              "  <tbody>\n",
              "    <tr>\n",
              "      <th>0</th>\n",
              "      <td>-114.31</td>\n",
              "      <td>34.19</td>\n",
              "      <td>15.0</td>\n",
              "      <td>5612.0</td>\n",
              "      <td>1283.0</td>\n",
              "      <td>1015.0</td>\n",
              "      <td>472.0</td>\n",
              "      <td>1.4936</td>\n",
              "      <td>66900.0</td>\n",
              "    </tr>\n",
              "    <tr>\n",
              "      <th>1</th>\n",
              "      <td>-114.47</td>\n",
              "      <td>34.40</td>\n",
              "      <td>19.0</td>\n",
              "      <td>7650.0</td>\n",
              "      <td>1901.0</td>\n",
              "      <td>1129.0</td>\n",
              "      <td>463.0</td>\n",
              "      <td>1.8200</td>\n",
              "      <td>80100.0</td>\n",
              "    </tr>\n",
              "    <tr>\n",
              "      <th>2</th>\n",
              "      <td>-114.56</td>\n",
              "      <td>33.69</td>\n",
              "      <td>17.0</td>\n",
              "      <td>720.0</td>\n",
              "      <td>174.0</td>\n",
              "      <td>333.0</td>\n",
              "      <td>117.0</td>\n",
              "      <td>1.6509</td>\n",
              "      <td>85700.0</td>\n",
              "    </tr>\n",
              "    <tr>\n",
              "      <th>3</th>\n",
              "      <td>-114.57</td>\n",
              "      <td>33.64</td>\n",
              "      <td>14.0</td>\n",
              "      <td>1501.0</td>\n",
              "      <td>337.0</td>\n",
              "      <td>515.0</td>\n",
              "      <td>226.0</td>\n",
              "      <td>3.1917</td>\n",
              "      <td>73400.0</td>\n",
              "    </tr>\n",
              "    <tr>\n",
              "      <th>4</th>\n",
              "      <td>-114.57</td>\n",
              "      <td>33.57</td>\n",
              "      <td>20.0</td>\n",
              "      <td>1454.0</td>\n",
              "      <td>326.0</td>\n",
              "      <td>624.0</td>\n",
              "      <td>262.0</td>\n",
              "      <td>1.9250</td>\n",
              "      <td>65500.0</td>\n",
              "    </tr>\n",
              "  </tbody>\n",
              "</table>\n",
              "</div>"
            ],
            "text/plain": [
              "   longitude  latitude  ...  median_income  median_house_value\n",
              "0    -114.31     34.19  ...         1.4936             66900.0\n",
              "1    -114.47     34.40  ...         1.8200             80100.0\n",
              "2    -114.56     33.69  ...         1.6509             85700.0\n",
              "3    -114.57     33.64  ...         3.1917             73400.0\n",
              "4    -114.57     33.57  ...         1.9250             65500.0\n",
              "\n",
              "[5 rows x 9 columns]"
            ]
          },
          "metadata": {},
          "execution_count": 28
        }
      ]
    },
    {
      "cell_type": "code",
      "metadata": {
        "colab": {
          "base_uri": "https://localhost:8080/",
          "height": 314
        },
        "id": "dNO9kyHfzZio",
        "outputId": "3f447ac4-e95f-440e-aea4-70abfddf53d1"
      },
      "source": [
        "df2_pd.describe()"
      ],
      "execution_count": 27,
      "outputs": [
        {
          "output_type": "execute_result",
          "data": {
            "text/html": [
              "<div>\n",
              "<style scoped>\n",
              "    .dataframe tbody tr th:only-of-type {\n",
              "        vertical-align: middle;\n",
              "    }\n",
              "\n",
              "    .dataframe tbody tr th {\n",
              "        vertical-align: top;\n",
              "    }\n",
              "\n",
              "    .dataframe thead th {\n",
              "        text-align: right;\n",
              "    }\n",
              "</style>\n",
              "<table border=\"1\" class=\"dataframe\">\n",
              "  <thead>\n",
              "    <tr style=\"text-align: right;\">\n",
              "      <th></th>\n",
              "      <th>longitude</th>\n",
              "      <th>latitude</th>\n",
              "      <th>housing_median_age</th>\n",
              "      <th>total_rooms</th>\n",
              "      <th>total_bedrooms</th>\n",
              "      <th>population</th>\n",
              "      <th>households</th>\n",
              "      <th>median_income</th>\n",
              "      <th>median_house_value</th>\n",
              "    </tr>\n",
              "  </thead>\n",
              "  <tbody>\n",
              "    <tr>\n",
              "      <th>count</th>\n",
              "      <td>17000.000000</td>\n",
              "      <td>17000.000000</td>\n",
              "      <td>17000.000000</td>\n",
              "      <td>17000.000000</td>\n",
              "      <td>17000.000000</td>\n",
              "      <td>17000.000000</td>\n",
              "      <td>17000.000000</td>\n",
              "      <td>17000.000000</td>\n",
              "      <td>17000.000000</td>\n",
              "    </tr>\n",
              "    <tr>\n",
              "      <th>mean</th>\n",
              "      <td>-119.562108</td>\n",
              "      <td>35.625225</td>\n",
              "      <td>28.589353</td>\n",
              "      <td>2643.664412</td>\n",
              "      <td>539.410824</td>\n",
              "      <td>1429.573941</td>\n",
              "      <td>501.221941</td>\n",
              "      <td>3.883578</td>\n",
              "      <td>207300.912353</td>\n",
              "    </tr>\n",
              "    <tr>\n",
              "      <th>std</th>\n",
              "      <td>2.005166</td>\n",
              "      <td>2.137340</td>\n",
              "      <td>12.586937</td>\n",
              "      <td>2179.947071</td>\n",
              "      <td>421.499452</td>\n",
              "      <td>1147.852959</td>\n",
              "      <td>384.520841</td>\n",
              "      <td>1.908157</td>\n",
              "      <td>115983.764387</td>\n",
              "    </tr>\n",
              "    <tr>\n",
              "      <th>min</th>\n",
              "      <td>-124.350000</td>\n",
              "      <td>32.540000</td>\n",
              "      <td>1.000000</td>\n",
              "      <td>2.000000</td>\n",
              "      <td>1.000000</td>\n",
              "      <td>3.000000</td>\n",
              "      <td>1.000000</td>\n",
              "      <td>0.499900</td>\n",
              "      <td>14999.000000</td>\n",
              "    </tr>\n",
              "    <tr>\n",
              "      <th>25%</th>\n",
              "      <td>-121.790000</td>\n",
              "      <td>33.930000</td>\n",
              "      <td>18.000000</td>\n",
              "      <td>1462.000000</td>\n",
              "      <td>297.000000</td>\n",
              "      <td>790.000000</td>\n",
              "      <td>282.000000</td>\n",
              "      <td>2.566375</td>\n",
              "      <td>119400.000000</td>\n",
              "    </tr>\n",
              "    <tr>\n",
              "      <th>50%</th>\n",
              "      <td>-118.490000</td>\n",
              "      <td>34.250000</td>\n",
              "      <td>29.000000</td>\n",
              "      <td>2127.000000</td>\n",
              "      <td>434.000000</td>\n",
              "      <td>1167.000000</td>\n",
              "      <td>409.000000</td>\n",
              "      <td>3.544600</td>\n",
              "      <td>180400.000000</td>\n",
              "    </tr>\n",
              "    <tr>\n",
              "      <th>75%</th>\n",
              "      <td>-118.000000</td>\n",
              "      <td>37.720000</td>\n",
              "      <td>37.000000</td>\n",
              "      <td>3151.250000</td>\n",
              "      <td>648.250000</td>\n",
              "      <td>1721.000000</td>\n",
              "      <td>605.250000</td>\n",
              "      <td>4.767000</td>\n",
              "      <td>265000.000000</td>\n",
              "    </tr>\n",
              "    <tr>\n",
              "      <th>max</th>\n",
              "      <td>-114.310000</td>\n",
              "      <td>41.950000</td>\n",
              "      <td>52.000000</td>\n",
              "      <td>37937.000000</td>\n",
              "      <td>6445.000000</td>\n",
              "      <td>35682.000000</td>\n",
              "      <td>6082.000000</td>\n",
              "      <td>15.000100</td>\n",
              "      <td>500001.000000</td>\n",
              "    </tr>\n",
              "  </tbody>\n",
              "</table>\n",
              "</div>"
            ],
            "text/plain": [
              "          longitude      latitude  ...  median_income  median_house_value\n",
              "count  17000.000000  17000.000000  ...   17000.000000        17000.000000\n",
              "mean    -119.562108     35.625225  ...       3.883578       207300.912353\n",
              "std        2.005166      2.137340  ...       1.908157       115983.764387\n",
              "min     -124.350000     32.540000  ...       0.499900        14999.000000\n",
              "25%     -121.790000     33.930000  ...       2.566375       119400.000000\n",
              "50%     -118.490000     34.250000  ...       3.544600       180400.000000\n",
              "75%     -118.000000     37.720000  ...       4.767000       265000.000000\n",
              "max     -114.310000     41.950000  ...      15.000100       500001.000000\n",
              "\n",
              "[8 rows x 9 columns]"
            ]
          },
          "metadata": {},
          "execution_count": 27
        }
      ]
    },
    {
      "cell_type": "markdown",
      "metadata": {
        "id": "QZFIs3WGwBPI"
      },
      "source": [
        "# other functions\n",
        "fillna()<br>\n",
        "dropDuplicates()<br>\n",
        "drop()<br>\n",
        "distinct()<br>\n",
        "countDistinct()<br>\n",
        "withColumn()<br>\n",
        "withColumnRenamed()<br>\n",
        "pivot()<br>\n",
        "sort()<br>\n",
        "collect_list()<br>\n",
        "collect_set()<br>\n",
        "get_json_object()<br>\n",
        "from_unixtime()<br>\n",
        "to_date()<br>\n",
        "sample(False, 0.1, 123) <br>\n",
        "cube()<br>\n",
        "cache()<br>"
      ]
    },
    {
      "cell_type": "code",
      "metadata": {
        "id": "I3c8G8EewCrn"
      },
      "source": [
        ""
      ],
      "execution_count": null,
      "outputs": []
    }
  ]
}