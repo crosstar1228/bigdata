{
  "nbformat": 4,
  "nbformat_minor": 0,
  "metadata": {
    "colab": {
      "name": "Log_processing.ipynb",
      "provenance": [],
      "collapsed_sections": []
    },
    "kernelspec": {
      "name": "python3",
      "display_name": "Python 3"
    },
    "language_info": {
      "name": "python"
    }
  },
  "cells": [
    {
      "cell_type": "markdown",
      "metadata": {
        "id": "0kCA1vNFgfQi"
      },
      "source": [
        "## 로그 데이터란?\n",
        "- 최근 사용자의 사용성 및 행동 패턴을 확인하거나 유저 클러스터링, 모델링 등 다양한 목적으로 사용되는 행동 기반 데이터\n",
        "\n",
        "### 장점\n",
        "- 설문과 같은 사용자 응답 및 기억에 의존하는 데이터 수집 방법 대비, 행동을 정확하게 파악/예측할 수 있음\n",
        "- 특정 결과에 이르는 과정과 흐름을 상세히 파악할 수 있어, 서비스를 개선하는 데 매우 유용한 자료\n",
        "\n",
        "### 단점\n",
        " - 데이터 용량이 크기 때문에 스토리지 관련 비용/리소스가 발생\n",
        " - JSON, CSV, TSV와 같은 비정형 텍스트 형태이므로 기존 RDB와는 다른 수집/처리 시스템과 전문 인력이 요구됨"
      ]
    },
    {
      "cell_type": "markdown",
      "metadata": {
        "id": "mdCslsQihFuK"
      },
      "source": [
        "## JSON\n",
        " - 최근 로그의 형태는 대부분 JSON(JavaScript Object Notation)이다.\n",
        " -  Pandas의 Dictionary와 거의 유사하게 Key, Value로 구성되어 있으며, Hierchial 구조를 가질 수 있다,"
      ]
    },
    {
      "cell_type": "code",
      "metadata": {
        "colab": {
          "base_uri": "https://localhost:8080/"
        },
        "id": "NFUlAUuOgJ4X",
        "outputId": "2d1dbd4e-283e-46a5-c767-a340aa665441"
      },
      "source": [
        "# 로그 스키마 예시\n",
        "{\n",
        " \"memid\": \" \", # int \n",
        " \"sessionid\": \" \", # string \n",
        " \"ver\": \" \", # string\n",
        " \"screen\": \"Main\", # string\n",
        " \"event\": \"View\", # string\n",
        " \"area\": \"Seoul\", # string\n",
        " \"group\": \"A\", # string, A or B ...\n",
        " \"params\": {\n",
        "            \"isGuest\": \"T\", # boolean \n",
        "            \"UserType\": \" \" # string\n",
        "            }\n",
        "}"
      ],
      "execution_count": 13,
      "outputs": [
        {
          "output_type": "execute_result",
          "data": {
            "text/plain": [
              "{'area': 'Seoul',\n",
              " 'event': 'View',\n",
              " 'group': 'A',\n",
              " 'memid': ' ',\n",
              " 'params': {'UserType': ' ', 'isGuest': 'T'},\n",
              " 'screen': 'Main',\n",
              " 'sessionid': ' ',\n",
              " 'ver': ' '}"
            ]
          },
          "metadata": {},
          "execution_count": 13
        }
      ]
    },
    {
      "cell_type": "markdown",
      "metadata": {
        "id": "9qxHgI6KhSWR"
      },
      "source": [
        "## 수집\n",
        " - 로그 정의 후 수집이 이루어지면,JSON과 Pandas Library를 통해 Pandas DataFrame 형태로 아래와 같이 파싱\n"
      ]
    },
    {
      "cell_type": "code",
      "metadata": {
        "id": "F9H_n4sghN3T"
      },
      "source": [
        "import json\n",
        "import pandas as pd\n",
        "\n",
        "data= []\n",
        "mydf = pd.DataFrame()\n",
        "\n",
        "# to parse json files\n",
        "with open('/content/sample_data/train.json') as f:\n",
        "    data.append(json.loads(f.read()))\n",
        "\n",
        "    # convert json to df\n",
        "    for i in range(0, len(data)):\n",
        "        df = pd.DataFrame.from_dict([data[i]])\n",
        "        mydf = mydf.append(df)\n",
        "\n",
        "# reset index\n",
        "mydf.reset_index(drop=True, inplace=True)\n",
        "\n"
      ],
      "execution_count": 9,
      "outputs": []
    },
    {
      "cell_type": "code",
      "metadata": {
        "colab": {
          "base_uri": "https://localhost:8080/"
        },
        "id": "xeaFtkP1kaRc",
        "outputId": "f4953214-eea2-42fd-b7d3-773265bb3682"
      },
      "source": [
        "mydf[0]"
      ],
      "execution_count": 17,
      "outputs": [
        {
          "output_type": "execute_result",
          "data": {
            "text/plain": [
              "0    {'id': 1000, 'title': '제207회 완주군의회(임시회) 제 1 차 ...\n",
              "Name: 0, dtype: object"
            ]
          },
          "metadata": {},
          "execution_count": 17
        }
      ]
    },
    {
      "cell_type": "markdown",
      "metadata": {
        "id": "hZ7L62QEiGtT"
      },
      "source": [
        "## Json 파일은 아래와 같이 체계적으로 확인 가능하다."
      ]
    },
    {
      "cell_type": "code",
      "metadata": {
        "id": "u9GCij0EkGIb"
      },
      "source": [
        "def print_json_tree(data, indent=\"\"):\n",
        "    for key, value in data.items():\n",
        "        if type(value) == list:     # list 형태의 item은 첫번째 item만 출력\n",
        "            print(f'{indent}- {key}: [{len(value)}]')\n",
        "            print_json_tree(value[0], indent + \"  \")\n",
        "        else:\n",
        "            print(f'{indent}- {key}: {value}')"
      ],
      "execution_count": 10,
      "outputs": []
    },
    {
      "cell_type": "code",
      "metadata": {
        "colab": {
          "base_uri": "https://localhost:8080/"
        },
        "id": "yeINldG0kHKn",
        "outputId": "b3e13701-48c8-4ead-80d6-a2a1782280e5"
      },
      "source": [
        "print_json_tree(data[0][0])"
      ],
      "execution_count": 12,
      "outputs": [
        {
          "output_type": "stream",
          "name": "stdout",
          "text": [
            "- id: 1000\n",
            "- title: 제207회 완주군의회(임시회) 제 1 차 본회의회의록\n",
            "- region: 완주\n",
            "- num_agenda: 4\n",
            "- context: {'AGENDA_1': {'0': '의석을 정돈하여 주시기 바랍니다. 성원이 되었으므로 제207회 완주군의회 임시회 제1차 본회의 개의를 선포합니다. 먼저 의사팀장으로부터 의회 관련 사항에 대한 보고가 있겠습니다. 의사팀장은 보고하여 주시기 바랍니다.', '1': '의사팀장 이은미 입니다. 의회관련 사항을 보고 드리겠습니다. 먼저 제207회 완주군의회 임시회 소집경위를 보고 드리겠습니다. 지방자치법 제45조 제2항의 규정에 의거 서남용 의원님 외 4인의 의원님으로부터 임시회 집회 요구가 있어 지난 8월6일 집회 공고를 하고 오늘 집회를 갖게 되었습니다. 다음은 의안접수 및 회부사항입니다. 먼저 의원발의 안건입니다. 완주군의회 의원 의정활동비등 지급에 관한 조례 일부개정 조례안, 완주군 향토문화유산 보호 및 관리 조례안, 완주군 싸움소 육성 지원에 관한 조례안 등 총 3건으로, 해당 상임의원회로 회부 하였습니다. 다음은 완주군수로부터 제출된 안건입니다. 삼례문화예술촌 설치 및 운영조례 일부개정 조례안 등 총 40건으로 해당 상임의원회로 회부하였습니다. 자세한 내용은 배부해 드린 유인물을 참조하여 주시기 바랍니다. 이상 보고를 마치겠습니다.'}, 'AGENDA_2': {'0': '의사팀장 수고하셨습니다. 먼저 의사일정 제1항 제207회 완주군의회 임시회 회기 결정의 건을 상정합니다. 제207회 완주군의회 임시회 회기 결정의 건에 대하여는 서남용 의원님 외 4인의 의원님이 발의한대로 8월 26일부터 9월 4일까지 10일간의 회기를 결정하고자 합니다. 의원 여러분 이의 있으십니까?', '1': '(『없습니다』하는 의원 있음)', '2': '이의가 없으므로 가결되었음을 선포합니다.'}, 'AGENDA_3': {'0': '다음은 의사일정 제2항 제207회 완주군의회 임시회 회의록 서명의원 선출의 건을 상정합니다. 회의록 서명의원으로는 최등원 의원님과 박웅배 의원님을 선출하고자 하는데 의원여러분 이의 있습니까?', '1': '(『없습니다』하는 의원 있음)', '2': '이의가 없으므로 가결되었음을 선포합니다. 그럼 두 분 의원님께서는 본 회기동안 수고하여 주시기 바랍니다.'}, 'AGENDA_4': {'0': '다음은 의사일정 제3항 본회의 휴회의 건을 상정합니다. 상임의원회 의정활동을 위하여 8월 27일부터 9월 3일까지 8일간 본회를 휴회 하고자 합니다. 의원여러분 이의 있으십니까?', '1': '(『없습니다』하는 의원 있음)', '2': '이의가 없으므로 가결되었음을 선포합니다. 이상으로 제207회 완주군의회 임시회 제1차 본회의를 마치겠습니다. 다음 제2차 본회의는 9월 4일 오전 10시에 개의하겠습니다. 의원여러분 수고 많으셨습니다. 산회를 선포합니다.'}}\n",
            "- label: {'AGENDA_1': {'evidence': {'0': ['의석을 정돈하여 주시기 바랍니다.', '성원이 되었으므로 제207회 완주군의회 임시회 제1차 본회의 개의를 선포합니다.']}, 'summary': '제207회 완주군의회 임시회 제1차 본회의 개의 선포.'}, 'AGENDA_2': {'evidence': {'0': ['먼저 의사일정 제1항 제207회 완주군의회 임시회 회기 결정의 건을 상정합니다.', '제207회 완주군의회 임시회 회기 결정의 건에 대하여는 서남용 의원님 외 4인의 의원님이 발의한대로 8월 26일부터 9월 4일까지 10일간의 회기를 결정하고자 합니다.', '의원 여러분 이의 있으십니까?'], '2': ['이의가 없으므로 가결되었음을 선포합니다.']}, 'summary': '제207회 완주군의회 임시회 회기는 8월 26일부터 9월 4일까지 10일간으로 가결됨.'}, 'AGENDA_3': {'evidence': {'0': ['다음은 의사일정 제2항 제207회 완주군의회 임시회 회의록 서명의원 선출의 건을 상정합니다.', '회의록 서명의원으로는 최등원 의원님과 박웅배 의원님을 선출하고자 하는데 의원여러분 이의 있습니까?'], '2': ['이의가 없으므로 가결되었음을 선포합니다.']}, 'summary': '제207회 완주군의회 임시회 회의록 서명의원으로 최등원 의원과 박웅배 의원이 선출됨.'}, 'AGENDA_4': {'evidence': {'0': ['다음은 의사일정 제3항 본회의 휴회의 건을 상정합니다.', '상임의원회 의정활동을 위하여 8월 27일부터 9월 3일까지 8일간 본회를 휴회 하고자 합니다.', '의원여러분 이의 있으십니까?'], '2': ['이의가 없으므로 가결되었음을 선포합니다.', '다음 제2차 본회의는 9월 4일 오전 10시에 개의하겠습니다.']}, 'summary': '8월 27일부터 9월 3일까지 8일간 휴회가 가결됨. 제2차 본회의는 9월 4일 오전 10시에 개의.'}}\n"
          ]
        }
      ]
    },
    {
      "cell_type": "code",
      "metadata": {
        "id": "XDI4h7XnkQ4a"
      },
      "source": [
        ""
      ],
      "execution_count": null,
      "outputs": []
    }
  ]
}