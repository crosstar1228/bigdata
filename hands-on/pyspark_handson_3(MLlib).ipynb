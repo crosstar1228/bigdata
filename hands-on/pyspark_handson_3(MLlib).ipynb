{
  "nbformat": 4,
  "nbformat_minor": 0,
  "metadata": {
    "colab": {
      "name": "Spark_handson_3(MLlib).ipynb",
      "provenance": []
    },
    "kernelspec": {
      "name": "python3",
      "display_name": "Python 3"
    },
    "language_info": {
      "name": "python"
    },
    "accelerator": "GPU"
  },
  "cells": [
    {
      "cell_type": "markdown",
      "metadata": {
        "id": "OPo09KgyHgFB"
      },
      "source": [
        "## spark MLlib 실습\n",
        "수지, 수입, 학생여부등이 담긴 데이터셋으로부터 MLlib를 활용하여 binary classification을 진행하여 봅시다.\n",
        "\n",
        "\n",
        "**전처리부터 모델 학습 및 평가, hyperparameter tuning까지의 일련의 과정입니다.**\n",
        "\n",
        "[참고자료](https://github.com/songhunhwa/MachineLearning_Pyspark)\n",
        "\n",
        "## 데이터셋 정보\n",
        "- Description: the dataset including the target variable(default) and features\n",
        "- Rows: 10000\n",
        "- Columns(type): Default(bool) / Student(bool) / Balance(double) / Income(double)\n",
        "- Issue => Binary Classification\n",
        "- Target var: Default (Skewed)\n",
        "- Features: Student, Balance, Income"
      ]
    },
    {
      "cell_type": "code",
      "metadata": {
        "colab": {
          "base_uri": "https://localhost:8080/"
        },
        "id": "zFu-1fYd6_LZ",
        "outputId": "e12df11c-1c35-4c3b-fbe8-e97042c7de33"
      },
      "source": [
        "!pip install pyspark"
      ],
      "execution_count": 1,
      "outputs": [
        {
          "output_type": "stream",
          "name": "stdout",
          "text": [
            "Collecting pyspark\n",
            "  Downloading pyspark-3.2.0.tar.gz (281.3 MB)\n",
            "\u001b[K     |████████████████████████████████| 281.3 MB 47 kB/s \n",
            "\u001b[?25hCollecting py4j==0.10.9.2\n",
            "  Downloading py4j-0.10.9.2-py2.py3-none-any.whl (198 kB)\n",
            "\u001b[K     |████████████████████████████████| 198 kB 61.2 MB/s \n",
            "\u001b[?25hBuilding wheels for collected packages: pyspark\n",
            "  Building wheel for pyspark (setup.py) ... \u001b[?25l\u001b[?25hdone\n",
            "  Created wheel for pyspark: filename=pyspark-3.2.0-py2.py3-none-any.whl size=281805912 sha256=07d9a85b93cd8e1528c8d4a0561cc526f78661bc1caea8d38802869ac970bd00\n",
            "  Stored in directory: /root/.cache/pip/wheels/0b/de/d2/9be5d59d7331c6c2a7c1b6d1a4f463ce107332b1ecd4e80718\n",
            "Successfully built pyspark\n",
            "Installing collected packages: py4j, pyspark\n",
            "Successfully installed py4j-0.10.9.2 pyspark-3.2.0\n"
          ]
        }
      ]
    },
    {
      "cell_type": "code",
      "metadata": {
        "colab": {
          "base_uri": "https://localhost:8080/"
        },
        "id": "V2oxyC_Z6wZR",
        "outputId": "4eb576d7-9107-403f-d64e-4d599e92cbda"
      },
      "source": [
        "# import modules\n",
        "from pyspark.ml.feature import OneHotEncoder, StringIndexer, VectorAssembler, StandardScaler\n",
        "from pyspark.ml import Pipeline\n",
        "from pyspark.ml.classification import LogisticRegression\n",
        "from pyspark.sql.functions import col, stddev_samp\n",
        "from pyspark import SparkContext, SQLContext\n",
        "sc= SparkContext()\n",
        "sqlContext=SQLContext(sc)"
      ],
      "execution_count": 6,
      "outputs": [
        {
          "output_type": "stream",
          "name": "stderr",
          "text": [
            "/usr/local/lib/python3.7/dist-packages/pyspark/sql/context.py:79: FutureWarning: Deprecated in 3.0.0. Use SparkSession.builder.getOrCreate() instead.\n",
            "  FutureWarning\n"
          ]
        }
      ]
    },
    {
      "cell_type": "markdown",
      "metadata": {
        "id": "aSnSllu7F-cy"
      },
      "source": [
        "> 파일을 불러오겠습니다."
      ]
    },
    {
      "cell_type": "code",
      "metadata": {
        "id": "vHLnKPvd69op"
      },
      "source": [
        "# read datafiles\n",
        "df = sqlContext.read.format('com.databricks.spark.csv')\\\n",
        "                    .options(header='true', inferSchema='true')\\\n",
        "                    .load('/content/sample_data/Default.csv')\\\n",
        "                    .drop(\"_c0\")\\\n",
        "                    .cache()"
      ],
      "execution_count": 8,
      "outputs": []
    },
    {
      "cell_type": "code",
      "metadata": {
        "colab": {
          "base_uri": "https://localhost:8080/"
        },
        "id": "QW5GcOcfIdYp",
        "outputId": "5318b3d1-f28f-4924-c236-b1faf4d3c639"
      },
      "source": [
        "df.show(5)"
      ],
      "execution_count": 27,
      "outputs": [
        {
          "output_type": "stream",
          "name": "stdout",
          "text": [
            "+-------+-------+-----------+-----------+------------------+------------------+\n",
            "|default|student|    balance|     income|      incomeScaled|     balanceScaled|\n",
            "+-------+-------+-----------+-----------+------------------+------------------+\n",
            "|     No|     No|729.5264952|44361.62507|3.3262970676634867|1.5081742710178534|\n",
            "|     No|    Yes|817.1804066| 12106.1347|0.9077350139857981|1.6893841034192338|\n",
            "|     No|     No|1073.549164|31767.13895|2.3819447770614217|2.2193837214557224|\n",
            "|     No|     No|529.2506047|35704.49394|2.6771731943459827|1.0941372934102322|\n",
            "|     No|     No|785.6558829|38463.49588|2.8840470419162356|1.6242124121054071|\n",
            "+-------+-------+-----------+-----------+------------------+------------------+\n",
            "only showing top 5 rows\n",
            "\n"
          ]
        }
      ]
    },
    {
      "cell_type": "markdown",
      "metadata": {
        "id": "v66_HUCLGsnp"
      },
      "source": [
        "### 전처리 \n",
        "- student 칼럼의 경우, one-hot encoding을 통해 데이터 피쳐 변환\n",
        "- default 는 label 칼럼으로 변경\n",
        "- 수지와 수입은 Normalization"
      ]
    },
    {
      "cell_type": "code",
      "metadata": {
        "id": "VI80xWWk6-Jq"
      },
      "source": [
        "# transform categorical values to int\n",
        "strIdx = StringIndexer(inputCol = \"studentㅡ\", outputCol = \"studentIdx\")"
      ],
      "execution_count": 25,
      "outputs": []
    },
    {
      "cell_type": "code",
      "metadata": {
        "id": "01Bn7XexGA-_"
      },
      "source": [
        "# one-hot encoding\n",
        "encode = OneHotEncoder(inputCol = \"studentIdx\", outputCol = \"studentclassVec\")"
      ],
      "execution_count": 10,
      "outputs": []
    },
    {
      "cell_type": "code",
      "metadata": {
        "id": "ykVDMBh-GDbp"
      },
      "source": [
        "# transform categorical values to int\n",
        "label_StrIdx = StringIndexer(inputCol = \"default\", outputCol = \"label\")"
      ],
      "execution_count": 11,
      "outputs": []
    },
    {
      "cell_type": "code",
      "metadata": {
        "colab": {
          "base_uri": "https://localhost:8080/"
        },
        "id": "qk2FFO1OGFSh",
        "outputId": "e397bc88-0844-4465-c81d-c03c76ee97f2"
      },
      "source": [
        "# set stages for pipeline\n",
        "stages = [strIdx, encode, label_StrIdx]\n",
        "stages"
      ],
      "execution_count": 26,
      "outputs": [
        {
          "output_type": "execute_result",
          "data": {
            "text/plain": [
              "[StringIndexer_6ca4ea3d071b,\n",
              " OneHotEncoder_7f54480ac0a1,\n",
              " StringIndexer_97e1dc36172a]"
            ]
          },
          "metadata": {},
          "execution_count": 26
        }
      ]
    },
    {
      "cell_type": "code",
      "metadata": {
        "id": "qG-x5UbAGG3p"
      },
      "source": [
        "# columns\n",
        "numCols = ['income', 'balance']\n",
        "for c in numCols:\n",
        "    df = df.withColumn(c + \"Scaled\", col(c)/df.agg(stddev_samp(c)).first()[0])"
      ],
      "execution_count": 13,
      "outputs": []
    },
    {
      "cell_type": "markdown",
      "metadata": {
        "id": "U3ArQHAPIqzR"
      },
      "source": [
        "> 이제 feature를 stage에 append합니다."
      ]
    },
    {
      "cell_type": "code",
      "metadata": {
        "id": "aQYe5f4gGHQZ"
      },
      "source": [
        "# set inputs and append it to the stage\n",
        "inputs = [\"studentclassVec\", \"incomeScaled\", \"balanceScaled\"]\n",
        "assembler = VectorAssembler(inputCols = inputs, outputCol = \"features\")\n",
        "stages += [assembler]"
      ],
      "execution_count": 14,
      "outputs": []
    },
    {
      "cell_type": "markdown",
      "metadata": {
        "id": "euYvZs72IzrS"
      },
      "source": [
        "> Feature를 통해 pipeline 생성합니다.`pipelineModel`"
      ]
    },
    {
      "cell_type": "code",
      "metadata": {
        "colab": {
          "base_uri": "https://localhost:8080/"
        },
        "id": "mRXmgHTaGHUR",
        "outputId": "4570788d-d5dd-4468-dc98-fa15b6eff04f"
      },
      "source": [
        "# create pipeline\n",
        "pipeline = Pipeline(stages = stages)\n",
        "pipelineModel = pipeline.fit(df)\n",
        "dataset = pipelineModel.transform(df)\n",
        "dataset"
      ],
      "execution_count": 28,
      "outputs": [
        {
          "output_type": "execute_result",
          "data": {
            "text/plain": [
              "DataFrame[default: string, student: string, balance: double, income: double, incomeScaled: double, balanceScaled: double, studentIdx: double, studentclassVec: vector, label: double]"
            ]
          },
          "metadata": {},
          "execution_count": 28
        }
      ]
    },
    {
      "cell_type": "markdown",
      "metadata": {
        "id": "IofsA12sJEah"
      },
      "source": [
        "> 이제 Pipeline을 통해 Dataset이 준비되었습니다! \n",
        "- train/test 분리\n",
        "- Logistic regression으로 이진분류 학습"
      ]
    },
    {
      "cell_type": "code",
      "metadata": {
        "id": "n3rhB7gTGHYC"
      },
      "source": [
        "# cross validation and fit models\n",
        "(train, test) = dataset.randomSplit([0.7, 0.3], seed = 14)\n",
        "lr = LogisticRegression(labelCol = \"label\", featuresCol = \"features\", maxIter=10)"
      ],
      "execution_count": 16,
      "outputs": []
    },
    {
      "cell_type": "code",
      "metadata": {
        "colab": {
          "base_uri": "https://localhost:8080/"
        },
        "id": "zh1LEhmWGMfx",
        "outputId": "6898d41a-2935-43f0-d3f8-863f28fa31d8"
      },
      "source": [
        "lrModel = lr.fit(train)\n",
        "predictions = lrModel.transform(test)\n",
        "predictions.show()"
      ],
      "execution_count": 17,
      "outputs": [
        {
          "output_type": "stream",
          "name": "stdout",
          "text": [
            "+-------+-------+-------+-----------+------------------+-------------+----------+---------------+-----+--------------------+--------------------+--------------------+----------+\n",
            "|default|student|balance|     income|      incomeScaled|balanceScaled|studentIdx|studentclassVec|label|            features|       rawPrediction|         probability|prediction|\n",
            "+-------+-------+-------+-----------+------------------+-------------+----------+---------------+-----+--------------------+--------------------+--------------------+----------+\n",
            "|     No|     No|    0.0|16601.63528|1.2448139729585133|          0.0|       0.0|  (1,[0],[1.0])|  0.0|[1.0,1.2448139729...|[10.6128038095014...|[0.99997540158156...|       0.0|\n",
            "|     No|     No|    0.0|16834.80271|1.2622971949428254|          0.0|       0.0|  (1,[0],[1.0])|  0.0|[1.0,1.2622971949...|[10.6130159125976...|[0.99997540679828...|       0.0|\n",
            "|     No|     No|    0.0|17059.36832| 1.279135440360174|          0.0|       0.0|  (1,[0],[1.0])|  0.0|[1.0,1.2791354403...|[10.6132201909617...|[0.99997541182150...|       0.0|\n",
            "|     No|     No|    0.0|18593.91474|1.3941978901461123|          0.0|       0.0|  (1,[0],[1.0])|  0.0|[1.0,1.3941978901...|[10.6146161065358...|[0.99997544611973...|       0.0|\n",
            "|     No|     No|    0.0|19572.30011|1.4675586018454834|          0.0|       0.0|  (1,[0],[1.0])|  0.0|[1.0,1.4675586018...|[10.6155061046210...|[0.99997546796238...|       0.0|\n",
            "|     No|     No|    0.0|22535.50636|1.6897439759093085|          0.0|       0.0|  (1,[0],[1.0])|  0.0|[1.0,1.6897439759...|[10.6182016149683...|[0.99997553399808...|       0.0|\n",
            "|     No|     No|    0.0|23616.53901|1.7708013250949948|          0.0|       0.0|  (1,[0],[1.0])|  0.0|[1.0,1.7708013250...|[10.6191849871835...|[0.99997555804486...|       0.0|\n",
            "|     No|     No|    0.0|23910.13966| 1.792815914948682|          0.0|       0.0|  (1,[0],[1.0])|  0.0|[1.0,1.7928159149...|[10.6194520639656...|[0.99997556457171...|       0.0|\n",
            "|     No|     No|    0.0|24461.85446| 1.834184266954064|          0.0|       0.0|  (1,[0],[1.0])|  0.0|[1.0,1.8341842669...|[10.6199539368785...|[0.99997557683181...|       0.0|\n",
            "|     No|     No|    0.0|24818.35863|1.8609154512470114|          0.0|       0.0|  (1,[0],[1.0])|  0.0|[1.0,1.8609154512...|[10.6202782344798...|[0.99997558475071...|       0.0|\n",
            "|     No|     No|    0.0|24892.91569|1.8665058445128193|          0.0|       0.0|  (1,[0],[1.0])|  0.0|[1.0,1.8665058445...|[10.6203460560588...|[0.99997558640649...|       0.0|\n",
            "|     No|     No|    0.0|25603.53326| 1.919788949800133|          0.0|       0.0|  (1,[0],[1.0])|  0.0|[1.0,1.9197889498...|[10.6209924764735...|[0.99997560218245...|       0.0|\n",
            "|     No|     No|    0.0|25964.84434|1.9468805629685395|          0.0|       0.0|  (1,[0],[1.0])|  0.0|[1.0,1.9468805629...|[10.6213211467288...|[0.99997561019977...|       0.0|\n",
            "|     No|     No|    0.0|26100.75191|1.9570711037986135|          0.0|       0.0|  (1,[0],[1.0])|  0.0|[1.0,1.9570711037...|[10.6214447764158...|[0.99997561321482...|       0.0|\n",
            "|     No|     No|    0.0|26237.47434|1.9673227439780527|          0.0|       0.0|  (1,[0],[1.0])|  0.0|[1.0,1.9673227439...|[10.6215691473484...|[0.99997561624756...|       0.0|\n",
            "|     No|     No|    0.0|26626.48588|1.9964913766137475|          0.0|       0.0|  (1,[0],[1.0])|  0.0|[1.0,1.9964913766...|[10.6219230156056...|[0.99997562487446...|       0.0|\n",
            "|     No|     No|    0.0|27367.78266|2.0520748522346595|          0.0|       0.0|  (1,[0],[1.0])|  0.0|[1.0,2.0520748522...|[10.6225973436720...|[0.99997564130535...|       0.0|\n",
            "|     No|     No|    0.0|27888.82603|2.0911434172617906|          0.0|       0.0|  (1,[0],[1.0])|  0.0|[1.0,2.0911434172...|[10.6230713160103...|[0.99997565284768...|       0.0|\n",
            "|     No|     No|    0.0|28490.77146| 2.136278132582589|          0.0|       0.0|  (1,[0],[1.0])|  0.0|[1.0,2.1362781325...|[10.6236188817206...|[0.99997566617538...|       0.0|\n",
            "|     No|     No|    0.0|28798.03997| 2.159317557810713|          0.0|       0.0|  (1,[0],[1.0])|  0.0|[1.0,2.1593175578...|[10.6238983916090...|[0.99997567297580...|       0.0|\n",
            "+-------+-------+-------+-----------+------------------+-------------+----------+---------------+-----+--------------------+--------------------+--------------------+----------+\n",
            "only showing top 20 rows\n",
            "\n"
          ]
        }
      ]
    },
    {
      "cell_type": "markdown",
      "metadata": {
        "id": "VeRzqGGWJTg_"
      },
      "source": [
        "> 맨 오른쪽 칼럼이 prediction에 해당하는 칼럼이군요! 학습이 잘 진행된 것 같습니다."
      ]
    },
    {
      "cell_type": "markdown",
      "metadata": {
        "id": "SbnipWOLJgMi"
      },
      "source": [
        "마지막으로,\n",
        "- 모델 평가\n",
        "- GridSearch를 통한 Hyperparameter tuning을 진행해 보겠습니다."
      ]
    },
    {
      "cell_type": "code",
      "metadata": {
        "colab": {
          "base_uri": "https://localhost:8080/"
        },
        "id": "hWGK4bkqGHcZ",
        "outputId": "ecf9ea17-4430-4132-8ffd-97d76b077bda"
      },
      "source": [
        "# evaluation\n",
        "from pyspark.ml.evaluation import BinaryClassificationEvaluator\n",
        "from pyspark.ml.tuning import ParamGridBuilder, CrossValidator\n",
        "\n",
        "evaluator = BinaryClassificationEvaluator(rawPredictionCol=\"rawPrediction\")\n",
        "evaluator.evaluate(predictions) # AUC"
      ],
      "execution_count": 18,
      "outputs": [
        {
          "output_type": "execute_result",
          "data": {
            "text/plain": [
              "0.9549682684102574"
            ]
          },
          "metadata": {},
          "execution_count": 18
        }
      ]
    },
    {
      "cell_type": "code",
      "metadata": {
        "id": "1C8sIb_FGHgJ"
      },
      "source": [
        "# grid search for parametor tuning\n",
        "paramGrid = (ParamGridBuilder()\n",
        "             .addGrid(lr.regParam, [0.01, 0.5, 2.0])\n",
        "             .addGrid(lr.elasticNetParam, [0.0, 0.5, 1.0])\n",
        "             .addGrid(lr.maxIter, [1, 5, 10])\n",
        "             .build())"
      ],
      "execution_count": 19,
      "outputs": []
    },
    {
      "cell_type": "code",
      "metadata": {
        "id": "AA7bA2A6GSXZ"
      },
      "source": [
        "cv = CrossValidator(estimator=lr, estimatorParamMaps=paramGrid, evaluator=evaluator, numFolds=5)\n",
        "cvModel = cv.fit(train)"
      ],
      "execution_count": 20,
      "outputs": []
    },
    {
      "cell_type": "code",
      "metadata": {
        "colab": {
          "base_uri": "https://localhost:8080/"
        },
        "id": "dLcenqnYGTrR",
        "outputId": "5de25b41-7556-4cda-8e99-10cd03e942b8"
      },
      "source": [
        "predictions = cvModel.transform(test)\n",
        "evaluator.evaluate(predictions)"
      ],
      "execution_count": 21,
      "outputs": [
        {
          "output_type": "execute_result",
          "data": {
            "text/plain": [
              "0.9521045136279103"
            ]
          },
          "metadata": {},
          "execution_count": 21
        }
      ]
    }
  ]
}