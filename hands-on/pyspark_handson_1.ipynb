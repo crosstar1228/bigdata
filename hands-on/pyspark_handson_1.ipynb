{
  "nbformat": 4,
  "nbformat_minor": 0,
  "metadata": {
    "colab": {
      "name": "pyspark_handson_1.ipynb",
      "provenance": [],
      "collapsed_sections": []
    },
    "kernelspec": {
      "name": "python3",
      "display_name": "Python 3"
    },
    "language_info": {
      "name": "python"
    },
    "accelerator": "GPU"
  },
  "cells": [
    {
      "cell_type": "markdown",
      "metadata": {
        "id": "eS8l2ae0dRYT"
      },
      "source": [
        "##pyspark 실습\n",
        "### - csv 파일 불러오기\n",
        "-  pandas\n",
        "-  sc.textFile() 및 전처리\n",
        "-  sqlContext()\n",
        "\n",
        "  "
      ]
    },
    {
      "cell_type": "code",
      "metadata": {
        "colab": {
          "base_uri": "https://localhost:8080/"
        },
        "id": "QnbGMM7ieVq-",
        "outputId": "3b00b130-72e8-4cae-f534-2913a04d072b"
      },
      "source": [
        "!pip install pyspark"
      ],
      "execution_count": 1,
      "outputs": [
        {
          "output_type": "stream",
          "name": "stdout",
          "text": [
            "Collecting pyspark\n",
            "  Downloading pyspark-3.2.0.tar.gz (281.3 MB)\n",
            "\u001b[K     |████████████████████████████████| 281.3 MB 44 kB/s \n",
            "\u001b[?25hCollecting py4j==0.10.9.2\n",
            "  Downloading py4j-0.10.9.2-py2.py3-none-any.whl (198 kB)\n",
            "\u001b[K     |████████████████████████████████| 198 kB 53.3 MB/s \n",
            "\u001b[?25hBuilding wheels for collected packages: pyspark\n",
            "  Building wheel for pyspark (setup.py) ... \u001b[?25l\u001b[?25hdone\n",
            "  Created wheel for pyspark: filename=pyspark-3.2.0-py2.py3-none-any.whl size=281805912 sha256=4dd9f5eaf75be199aa070325d9107d951e416dfc93993d089dadec91fdcdc653\n",
            "  Stored in directory: /root/.cache/pip/wheels/0b/de/d2/9be5d59d7331c6c2a7c1b6d1a4f463ce107332b1ecd4e80718\n",
            "Successfully built pyspark\n",
            "Installing collected packages: py4j, pyspark\n",
            "Successfully installed py4j-0.10.9.2 pyspark-3.2.0\n"
          ]
        }
      ]
    },
    {
      "cell_type": "markdown",
      "metadata": {
        "id": "lrWS7OfnvHrk"
      },
      "source": [
        "[Transformation 명령어 더 알아보기](https://spark.apache.org/docs/latest/rdd-programming-guide.html#transformations)"
      ]
    },
    {
      "cell_type": "code",
      "metadata": {
        "colab": {
          "base_uri": "https://localhost:8080/"
        },
        "id": "oCTPBeePfMq8",
        "outputId": "2718dfe0-4349-431f-fb08-8806c692fec7"
      },
      "source": [
        "!java -version"
      ],
      "execution_count": 6,
      "outputs": [
        {
          "output_type": "stream",
          "name": "stdout",
          "text": [
            "openjdk version \"11.0.11\" 2021-04-20\n",
            "OpenJDK Runtime Environment (build 11.0.11+9-Ubuntu-0ubuntu2.18.04)\n",
            "OpenJDK 64-Bit Server VM (build 11.0.11+9-Ubuntu-0ubuntu2.18.04, mixed mode, sharing)\n"
          ]
        }
      ]
    },
    {
      "cell_type": "markdown",
      "metadata": {
        "id": "ob__-BKwjUOW"
      },
      "source": [
        "요런 csv 파일을 확인했다고 생각을 해봅시다!"
      ]
    },
    {
      "cell_type": "code",
      "metadata": {
        "colab": {
          "base_uri": "https://localhost:8080/",
          "height": 268
        },
        "id": "zONJ0ohri-Ab",
        "outputId": "7114fe28-eead-48ed-f59a-a05797dc0a1a"
      },
      "source": [
        "import pandas as pd\n",
        "csv_path = '/content/sample_data/train.csv'\n",
        "df= pd.read_csv(csv_path)\n",
        "df.head(5)"
      ],
      "execution_count": 15,
      "outputs": [
        {
          "output_type": "execute_result",
          "data": {
            "text/html": [
              "<div>\n",
              "<style scoped>\n",
              "    .dataframe tbody tr th:only-of-type {\n",
              "        vertical-align: middle;\n",
              "    }\n",
              "\n",
              "    .dataframe tbody tr th {\n",
              "        vertical-align: top;\n",
              "    }\n",
              "\n",
              "    .dataframe thead th {\n",
              "        text-align: right;\n",
              "    }\n",
              "</style>\n",
              "<table border=\"1\" class=\"dataframe\">\n",
              "  <thead>\n",
              "    <tr style=\"text-align: right;\">\n",
              "      <th></th>\n",
              "      <th>PassengerId</th>\n",
              "      <th>Survived</th>\n",
              "      <th>Pclass</th>\n",
              "      <th>Name</th>\n",
              "      <th>Sex</th>\n",
              "      <th>Age</th>\n",
              "      <th>SibSp</th>\n",
              "      <th>Parch</th>\n",
              "      <th>Ticket</th>\n",
              "      <th>Fare</th>\n",
              "      <th>Cabin</th>\n",
              "      <th>Embarked</th>\n",
              "    </tr>\n",
              "  </thead>\n",
              "  <tbody>\n",
              "    <tr>\n",
              "      <th>0</th>\n",
              "      <td>1</td>\n",
              "      <td>0</td>\n",
              "      <td>3</td>\n",
              "      <td>Braund, Mr. Owen Harris</td>\n",
              "      <td>male</td>\n",
              "      <td>22.0</td>\n",
              "      <td>1</td>\n",
              "      <td>0</td>\n",
              "      <td>A/5 21171</td>\n",
              "      <td>7.2500</td>\n",
              "      <td>NaN</td>\n",
              "      <td>S</td>\n",
              "    </tr>\n",
              "    <tr>\n",
              "      <th>1</th>\n",
              "      <td>2</td>\n",
              "      <td>1</td>\n",
              "      <td>1</td>\n",
              "      <td>Cumings, Mrs. John Bradley (Florence Briggs Th...</td>\n",
              "      <td>female</td>\n",
              "      <td>38.0</td>\n",
              "      <td>1</td>\n",
              "      <td>0</td>\n",
              "      <td>PC 17599</td>\n",
              "      <td>71.2833</td>\n",
              "      <td>C85</td>\n",
              "      <td>C</td>\n",
              "    </tr>\n",
              "    <tr>\n",
              "      <th>2</th>\n",
              "      <td>3</td>\n",
              "      <td>1</td>\n",
              "      <td>3</td>\n",
              "      <td>Heikkinen, Miss. Laina</td>\n",
              "      <td>female</td>\n",
              "      <td>26.0</td>\n",
              "      <td>0</td>\n",
              "      <td>0</td>\n",
              "      <td>STON/O2. 3101282</td>\n",
              "      <td>7.9250</td>\n",
              "      <td>NaN</td>\n",
              "      <td>S</td>\n",
              "    </tr>\n",
              "    <tr>\n",
              "      <th>3</th>\n",
              "      <td>4</td>\n",
              "      <td>1</td>\n",
              "      <td>1</td>\n",
              "      <td>Futrelle, Mrs. Jacques Heath (Lily May Peel)</td>\n",
              "      <td>female</td>\n",
              "      <td>35.0</td>\n",
              "      <td>1</td>\n",
              "      <td>0</td>\n",
              "      <td>113803</td>\n",
              "      <td>53.1000</td>\n",
              "      <td>C123</td>\n",
              "      <td>S</td>\n",
              "    </tr>\n",
              "    <tr>\n",
              "      <th>4</th>\n",
              "      <td>5</td>\n",
              "      <td>0</td>\n",
              "      <td>3</td>\n",
              "      <td>Allen, Mr. William Henry</td>\n",
              "      <td>male</td>\n",
              "      <td>35.0</td>\n",
              "      <td>0</td>\n",
              "      <td>0</td>\n",
              "      <td>373450</td>\n",
              "      <td>8.0500</td>\n",
              "      <td>NaN</td>\n",
              "      <td>S</td>\n",
              "    </tr>\n",
              "  </tbody>\n",
              "</table>\n",
              "</div>"
            ],
            "text/plain": [
              "   PassengerId  Survived  Pclass  ...     Fare Cabin  Embarked\n",
              "0            1         0       3  ...   7.2500   NaN         S\n",
              "1            2         1       1  ...  71.2833   C85         C\n",
              "2            3         1       3  ...   7.9250   NaN         S\n",
              "3            4         1       1  ...  53.1000  C123         S\n",
              "4            5         0       3  ...   8.0500   NaN         S\n",
              "\n",
              "[5 rows x 12 columns]"
            ]
          },
          "metadata": {},
          "execution_count": 15
        }
      ]
    },
    {
      "cell_type": "markdown",
      "metadata": {
        "id": "Hnxn2UREio7l"
      },
      "source": [
        "## Spark로 (빅)데이터를 불러와서 가공하여 봅시다."
      ]
    },
    {
      "cell_type": "code",
      "metadata": {
        "id": "-YQ-gDzBf4YU"
      },
      "source": [
        "from pyspark import SparkContext\n",
        "sc = SparkContext()"
      ],
      "execution_count": null,
      "outputs": []
    },
    {
      "cell_type": "code",
      "metadata": {
        "colab": {
          "base_uri": "https://localhost:8080/"
        },
        "id": "oE_kYMBFdtuM",
        "outputId": "515a0b5f-db28-4031-e1fc-baeed32d0c03"
      },
      "source": [
        "# csv_path = '/content/sample_data/train.csv'\n",
        "csv_data_0 = sc.textFile(csv_path)\n",
        "csv_data_0.take(5)"
      ],
      "execution_count": 10,
      "outputs": [
        {
          "output_type": "execute_result",
          "data": {
            "text/plain": [
              "['PassengerId,Survived,Pclass,Name,Sex,Age,SibSp,Parch,Ticket,Fare,Cabin,Embarked',\n",
              " '1,0,3,\"Braund, Mr. Owen Harris\",male,22,1,0,A/5 21171,7.25,,S',\n",
              " '2,1,1,\"Cumings, Mrs. John Bradley (Florence Briggs Thayer)\",female,38,1,0,PC 17599,71.2833,C85,C',\n",
              " '3,1,3,\"Heikkinen, Miss. Laina\",female,26,0,0,STON/O2. 3101282,7.925,,S',\n",
              " '4,1,1,\"Futrelle, Mrs. Jacques Heath (Lily May Peel)\",female,35,1,0,113803,53.1,C123,S']"
            ]
          },
          "metadata": {},
          "execution_count": 10
        }
      ]
    },
    {
      "cell_type": "markdown",
      "metadata": {
        "id": "OGr5gQZjjgTk"
      },
      "source": [
        "> list 형태로 반환이 되는군요! 이것을 ,에 따라 `split`해볼께요.\n",
        "\n"
      ]
    },
    {
      "cell_type": "code",
      "metadata": {
        "colab": {
          "base_uri": "https://localhost:8080/"
        },
        "id": "zFATIeSTeNvk",
        "outputId": "dbabe9b9-5e0f-400f-cace-c10e8dd7f388"
      },
      "source": [
        "# 비어있는 라인은 제외하고, delimeter인 ,로 line을 분리해 줍니다. \n",
        "csv_data_1 = csv_data_0.filter(lambda line: len(line)>1).map(lambda line: line.split(\",\"))   \n",
        "csv_data_1.take(5)"
      ],
      "execution_count": 12,
      "outputs": [
        {
          "output_type": "execute_result",
          "data": {
            "text/plain": [
              "[['PassengerId',\n",
              "  'Survived',\n",
              "  'Pclass',\n",
              "  'Name',\n",
              "  'Sex',\n",
              "  'Age',\n",
              "  'SibSp',\n",
              "  'Parch',\n",
              "  'Ticket',\n",
              "  'Fare',\n",
              "  'Cabin',\n",
              "  'Embarked'],\n",
              " ['1',\n",
              "  '0',\n",
              "  '3',\n",
              "  '\"Braund',\n",
              "  ' Mr. Owen Harris\"',\n",
              "  'male',\n",
              "  '22',\n",
              "  '1',\n",
              "  '0',\n",
              "  'A/5 21171',\n",
              "  '7.25',\n",
              "  '',\n",
              "  'S'],\n",
              " ['2',\n",
              "  '1',\n",
              "  '1',\n",
              "  '\"Cumings',\n",
              "  ' Mrs. John Bradley (Florence Briggs Thayer)\"',\n",
              "  'female',\n",
              "  '38',\n",
              "  '1',\n",
              "  '0',\n",
              "  'PC 17599',\n",
              "  '71.2833',\n",
              "  'C85',\n",
              "  'C'],\n",
              " ['3',\n",
              "  '1',\n",
              "  '3',\n",
              "  '\"Heikkinen',\n",
              "  ' Miss. Laina\"',\n",
              "  'female',\n",
              "  '26',\n",
              "  '0',\n",
              "  '0',\n",
              "  'STON/O2. 3101282',\n",
              "  '7.925',\n",
              "  '',\n",
              "  'S'],\n",
              " ['4',\n",
              "  '1',\n",
              "  '1',\n",
              "  '\"Futrelle',\n",
              "  ' Mrs. Jacques Heath (Lily May Peel)\"',\n",
              "  'female',\n",
              "  '35',\n",
              "  '1',\n",
              "  '0',\n",
              "  '113803',\n",
              "  '53.1',\n",
              "  'C123',\n",
              "  'S']]"
            ]
          },
          "metadata": {},
          "execution_count": 12
        }
      ]
    },
    {
      "cell_type": "markdown",
      "metadata": {
        "id": "7FXEqcFzj5Ud"
      },
      "source": [
        "> Column만 따로 분리해 볼까요?"
      ]
    },
    {
      "cell_type": "code",
      "metadata": {
        "colab": {
          "base_uri": "https://localhost:8080/"
        },
        "id": "zPNEBWuZg6A5",
        "outputId": "a5a4db35-5f57-4911-b903-8abd8389fe52"
      },
      "source": [
        "col = csv_data_1.take(1)\n",
        "col"
      ],
      "execution_count": 13,
      "outputs": [
        {
          "output_type": "execute_result",
          "data": {
            "text/plain": [
              "[['PassengerId',\n",
              "  'Survived',\n",
              "  'Pclass',\n",
              "  'Name',\n",
              "  'Sex',\n",
              "  'Age',\n",
              "  'SibSp',\n",
              "  'Parch',\n",
              "  'Ticket',\n",
              "  'Fare',\n",
              "  'Cabin',\n",
              "  'Embarked']]"
            ]
          },
          "metadata": {},
          "execution_count": 13
        }
      ]
    },
    {
      "cell_type": "markdown",
      "metadata": {
        "id": "xK_gFi3mkAB3"
      },
      "source": [
        "> 칼럼 이외의 데이터도 분리해 보겠습니다. 첫 원소가 숫자형태인 것을 이용해 보겠습니다!!"
      ]
    },
    {
      "cell_type": "code",
      "metadata": {
        "colab": {
          "base_uri": "https://localhost:8080/"
        },
        "id": "c3HHKDEUhtEW",
        "outputId": "875cbf8e-2c6c-41ab-fd7f-f7a2c0940423"
      },
      "source": [
        "csv_data_2 = csv_data_1.filter(lambda line: line[0].isdecimal())\n",
        "csv_data_2.take(5)"
      ],
      "execution_count": 17,
      "outputs": [
        {
          "output_type": "execute_result",
          "data": {
            "text/plain": [
              "[['1',\n",
              "  '0',\n",
              "  '3',\n",
              "  '\"Braund',\n",
              "  ' Mr. Owen Harris\"',\n",
              "  'male',\n",
              "  '22',\n",
              "  '1',\n",
              "  '0',\n",
              "  'A/5 21171',\n",
              "  '7.25',\n",
              "  '',\n",
              "  'S'],\n",
              " ['2',\n",
              "  '1',\n",
              "  '1',\n",
              "  '\"Cumings',\n",
              "  ' Mrs. John Bradley (Florence Briggs Thayer)\"',\n",
              "  'female',\n",
              "  '38',\n",
              "  '1',\n",
              "  '0',\n",
              "  'PC 17599',\n",
              "  '71.2833',\n",
              "  'C85',\n",
              "  'C'],\n",
              " ['3',\n",
              "  '1',\n",
              "  '3',\n",
              "  '\"Heikkinen',\n",
              "  ' Miss. Laina\"',\n",
              "  'female',\n",
              "  '26',\n",
              "  '0',\n",
              "  '0',\n",
              "  'STON/O2. 3101282',\n",
              "  '7.925',\n",
              "  '',\n",
              "  'S'],\n",
              " ['4',\n",
              "  '1',\n",
              "  '1',\n",
              "  '\"Futrelle',\n",
              "  ' Mrs. Jacques Heath (Lily May Peel)\"',\n",
              "  'female',\n",
              "  '35',\n",
              "  '1',\n",
              "  '0',\n",
              "  '113803',\n",
              "  '53.1',\n",
              "  'C123',\n",
              "  'S'],\n",
              " ['5',\n",
              "  '0',\n",
              "  '3',\n",
              "  '\"Allen',\n",
              "  ' Mr. William Henry\"',\n",
              "  'male',\n",
              "  '35',\n",
              "  '0',\n",
              "  '0',\n",
              "  '373450',\n",
              "  '8.05',\n",
              "  '',\n",
              "  'S']]"
            ]
          },
          "metadata": {},
          "execution_count": 17
        }
      ]
    },
    {
      "cell_type": "code",
      "metadata": {
        "colab": {
          "base_uri": "https://localhost:8080/"
        },
        "id": "1l1WuWfomA80",
        "outputId": "333d04c7-18b8-4a48-a642-b0656a25f7b6"
      },
      "source": [
        "len(csv_data_2.take(2)[1]), len(col[0])"
      ],
      "execution_count": 29,
      "outputs": [
        {
          "output_type": "execute_result",
          "data": {
            "text/plain": [
              "(13, 12)"
            ]
          },
          "metadata": {},
          "execution_count": 29
        }
      ]
    },
    {
      "cell_type": "markdown",
      "metadata": {
        "id": "-9q4nuc0rL4G"
      },
      "source": [
        "> 확인하니 Name에 두가지 요소가 split으로 나뉘어져 있습니다.칼럼 개수를 맞춰줍시다."
      ]
    },
    {
      "cell_type": "code",
      "metadata": {
        "colab": {
          "base_uri": "https://localhost:8080/"
        },
        "id": "SG-5LIqjsgy9",
        "outputId": "9a343d7d-1800-45e7-c424-cace20e92619"
      },
      "source": [
        "# Name에서 나뉘어진 두개의 element를 위해 insert\n",
        "col[0].insert(4,'FullName')\n",
        "col"
      ],
      "execution_count": 32,
      "outputs": [
        {
          "output_type": "execute_result",
          "data": {
            "text/plain": [
              "[['PassengerId',\n",
              "  'Survived',\n",
              "  'Pclass',\n",
              "  'Name',\n",
              "  'FullName',\n",
              "  'Sex',\n",
              "  'Age',\n",
              "  'SibSp',\n",
              "  'Parch',\n",
              "  'Ticket',\n",
              "  'Fare',\n",
              "  'Cabin',\n",
              "  'Embarked']]"
            ]
          },
          "metadata": {},
          "execution_count": 32
        }
      ]
    },
    {
      "cell_type": "code",
      "metadata": {
        "colab": {
          "base_uri": "https://localhost:8080/"
        },
        "id": "ROPpwtiwieHj",
        "outputId": "9487bce8-dd99-42a4-be91-a0b730748ca0"
      },
      "source": [
        "csv_data_3 = csv_data_2.map(lambda line: [(col[0][i], linedata) for i, linedata in enumerate(line)])\n",
        "csv_data_3.take(5)"
      ],
      "execution_count": 33,
      "outputs": [
        {
          "output_type": "execute_result",
          "data": {
            "text/plain": [
              "[[('PassengerId', '1'),\n",
              "  ('Survived', '0'),\n",
              "  ('Pclass', '3'),\n",
              "  ('Name', '\"Braund'),\n",
              "  ('FullName', ' Mr. Owen Harris\"'),\n",
              "  ('Sex', 'male'),\n",
              "  ('Age', '22'),\n",
              "  ('SibSp', '1'),\n",
              "  ('Parch', '0'),\n",
              "  ('Ticket', 'A/5 21171'),\n",
              "  ('Fare', '7.25'),\n",
              "  ('Cabin', ''),\n",
              "  ('Embarked', 'S')],\n",
              " [('PassengerId', '2'),\n",
              "  ('Survived', '1'),\n",
              "  ('Pclass', '1'),\n",
              "  ('Name', '\"Cumings'),\n",
              "  ('FullName', ' Mrs. John Bradley (Florence Briggs Thayer)\"'),\n",
              "  ('Sex', 'female'),\n",
              "  ('Age', '38'),\n",
              "  ('SibSp', '1'),\n",
              "  ('Parch', '0'),\n",
              "  ('Ticket', 'PC 17599'),\n",
              "  ('Fare', '71.2833'),\n",
              "  ('Cabin', 'C85'),\n",
              "  ('Embarked', 'C')],\n",
              " [('PassengerId', '3'),\n",
              "  ('Survived', '1'),\n",
              "  ('Pclass', '3'),\n",
              "  ('Name', '\"Heikkinen'),\n",
              "  ('FullName', ' Miss. Laina\"'),\n",
              "  ('Sex', 'female'),\n",
              "  ('Age', '26'),\n",
              "  ('SibSp', '0'),\n",
              "  ('Parch', '0'),\n",
              "  ('Ticket', 'STON/O2. 3101282'),\n",
              "  ('Fare', '7.925'),\n",
              "  ('Cabin', ''),\n",
              "  ('Embarked', 'S')],\n",
              " [('PassengerId', '4'),\n",
              "  ('Survived', '1'),\n",
              "  ('Pclass', '1'),\n",
              "  ('Name', '\"Futrelle'),\n",
              "  ('FullName', ' Mrs. Jacques Heath (Lily May Peel)\"'),\n",
              "  ('Sex', 'female'),\n",
              "  ('Age', '35'),\n",
              "  ('SibSp', '1'),\n",
              "  ('Parch', '0'),\n",
              "  ('Ticket', '113803'),\n",
              "  ('Fare', '53.1'),\n",
              "  ('Cabin', 'C123'),\n",
              "  ('Embarked', 'S')],\n",
              " [('PassengerId', '5'),\n",
              "  ('Survived', '0'),\n",
              "  ('Pclass', '3'),\n",
              "  ('Name', '\"Allen'),\n",
              "  ('FullName', ' Mr. William Henry\"'),\n",
              "  ('Sex', 'male'),\n",
              "  ('Age', '35'),\n",
              "  ('SibSp', '0'),\n",
              "  ('Parch', '0'),\n",
              "  ('Ticket', '373450'),\n",
              "  ('Fare', '8.05'),\n",
              "  ('Cabin', ''),\n",
              "  ('Embarked', 'S')]]"
            ]
          },
          "metadata": {},
          "execution_count": 33
        }
      ]
    },
    {
      "cell_type": "markdown",
      "metadata": {
        "id": "ZK54CoKutYKj"
      },
      "source": [
        "> 위와 같이 tuple 형태로 가공까지 성공했습니다!! "
      ]
    },
    {
      "cell_type": "markdown",
      "metadata": {
        "id": "JWGOUuk5tg0k"
      },
      "source": [
        "### SQLContext 모듈을 import해서 불러오는 방법도 알아보겠습니다!!\n",
        "\n",
        "1. `SparkContext()` 객체에 `addFile`\n",
        "2. 1의 결과물을 `SQLContext`로 감싸서 객체 생성\n",
        "3. 객체에서  `.read.csv`"
      ]
    },
    {
      "cell_type": "code",
      "metadata": {
        "colab": {
          "base_uri": "https://localhost:8080/"
        },
        "id": "WLCSr0dekbDC",
        "outputId": "8ee25de0-6089-4c81-9795-ca8cbfa2aee8"
      },
      "source": [
        "from pyspark import SparkConf, SparkContext, SQLContext\n",
        "from pyspark import SparkFiles\n",
        "\n",
        "url = 'https://storage.googleapis.com/tf-datasets/titanic/train.csv'\n",
        "sc.addFile(url) # 웹에서 파일 불러오기\n",
        "sqlContext = SQLContext(sc)\n",
        "\n",
        "df = sqlContext.read.csv(SparkFiles.get(\"train.csv\"), header=True, inferSchema= True)\n",
        "df.show(5, truncate = False)"
      ],
      "execution_count": 34,
      "outputs": [
        {
          "output_type": "stream",
          "name": "stderr",
          "text": [
            "/usr/local/lib/python3.7/dist-packages/pyspark/sql/context.py:79: FutureWarning: Deprecated in 3.0.0. Use SparkSession.builder.getOrCreate() instead.\n",
            "  FutureWarning\n"
          ]
        },
        {
          "output_type": "stream",
          "name": "stdout",
          "text": [
            "+--------+------+----+------------------+-----+-------+-----+-------+-----------+-----+\n",
            "|survived|sex   |age |n_siblings_spouses|parch|fare   |class|deck   |embark_town|alone|\n",
            "+--------+------+----+------------------+-----+-------+-----+-------+-----------+-----+\n",
            "|0       |male  |22.0|1                 |0    |7.25   |Third|unknown|Southampton|n    |\n",
            "|1       |female|38.0|1                 |0    |71.2833|First|C      |Cherbourg  |n    |\n",
            "|1       |female|26.0|0                 |0    |7.925  |Third|unknown|Southampton|y    |\n",
            "|1       |female|35.0|1                 |0    |53.1   |First|C      |Southampton|n    |\n",
            "|0       |male  |28.0|0                 |0    |8.4583 |Third|unknown|Queenstown |y    |\n",
            "+--------+------+----+------------------+-----+-------+-----+-------+-----------+-----+\n",
            "only showing top 5 rows\n",
            "\n"
          ]
        }
      ]
    },
    {
      "cell_type": "markdown",
      "metadata": {
        "id": "BbIEs7EAuc_X"
      },
      "source": [
        "> pandas dataframe과는 다른 느낌으로 데이터를 확인할 수 있군요!\n",
        "하지만 조작법은 비슷합니다.\n",
        "\n",
        "나이가 40세 이상인 분을 필터링해볼까요?"
      ]
    },
    {
      "cell_type": "code",
      "metadata": {
        "colab": {
          "base_uri": "https://localhost:8080/"
        },
        "id": "D-Z1k0P0uTo1",
        "outputId": "bb2b7e59-bfdb-4840-a490-e4f9ff88d2d4"
      },
      "source": [
        "df2 = df[df['age']>40]\n",
        "df2.show(5,truncate = False)"
      ],
      "execution_count": 35,
      "outputs": [
        {
          "output_type": "stream",
          "name": "stdout",
          "text": [
            "+--------+------+----+------------------+-----+-------+------+-------+-----------+-----+\n",
            "|survived|sex   |age |n_siblings_spouses|parch|fare   |class |deck   |embark_town|alone|\n",
            "+--------+------+----+------------------+-----+-------+------+-------+-----------+-----+\n",
            "|0       |male  |66.0|0                 |0    |10.5   |Second|unknown|Southampton|y    |\n",
            "|0       |male  |42.0|1                 |0    |52.0   |First |unknown|Southampton|n    |\n",
            "|1       |female|49.0|1                 |0    |76.7292|First |D      |Cherbourg  |n    |\n",
            "|0       |male  |65.0|0                 |1    |61.9792|First |B      |Cherbourg  |n    |\n",
            "|0       |male  |45.0|1                 |0    |83.475 |First |C      |Southampton|n    |\n",
            "+--------+------+----+------------------+-----+-------+------+-------+-----------+-----+\n",
            "only showing top 5 rows\n",
            "\n"
          ]
        }
      ]
    }
  ]
}